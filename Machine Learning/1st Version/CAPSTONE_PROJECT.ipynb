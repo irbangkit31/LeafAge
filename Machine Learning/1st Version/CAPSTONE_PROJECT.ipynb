{
  "nbformat": 4,
  "nbformat_minor": 0,
  "metadata": {
    "colab": {
      "provenance": []
    },
    "kernelspec": {
      "name": "python3",
      "display_name": "Python 3"
    },
    "language_info": {
      "name": "python"
    }
  },
  "cells": [
    {
      "cell_type": "markdown",
      "source": [
        "## **Capstone Project of Bangkit**\n",
        "\n",
        "Team C23-PC767\n"
      ],
      "metadata": {
        "id": "qzz0IAJ3pMlx"
      }
    },
    {
      "cell_type": "code",
      "execution_count": 1,
      "metadata": {
        "id": "LBPKreQHoYAT"
      },
      "outputs": [],
      "source": [
        "# The first thing to do is to import libraries\n",
        "\n",
        "import os\n",
        "import zipfile\n",
        "import random\n",
        "import shutil\n",
        "import pandas as pd\n",
        "import tensorflow as tf\n",
        "from tensorflow.keras.preprocessing.image import ImageDataGenerator\n",
        "from shutil import copyfile\n",
        "import matplotlib.pyplot as plt\n",
        "from tensorflow.keras import layers\n",
        "from tensorflow.keras import Model\n",
        "from tensorflow.keras.optimizers import RMSprop\n",
        "from tensorflow.keras.utils import img_to_array, load_img\n",
        "import csv\n",
        "import string\n",
        "import numpy as np\n",
        "from tensorflow.keras.preprocessing.image import ImageDataGenerator, array_to_img\n",
        "\n",
        "from sklearn.linear_model import LinearRegression\n",
        "from sklearn.preprocessing import StandardScaler\n",
        "from sklearn.model_selection import train_test_split\n",
        "from sklearn.metrics import mean_squared_error\n",
        "from sklearn.preprocessing import MinMaxScaler\n"
      ]
    },
    {
      "cell_type": "code",
      "source": [
        "# In this block of code, the dataset will be imported\n",
        "\n",
        "from google.colab import files\n",
        "uploaded = files.upload()"
      ],
      "metadata": {
        "colab": {
          "base_uri": "https://localhost:8080/",
          "height": 90
        },
        "id": "Bf9Q8DjdpnTX",
        "outputId": "db6cccf6-c4bc-493a-8ca6-4034f1cee9e7"
      },
      "execution_count": null,
      "outputs": [
        {
          "output_type": "display_data",
          "data": {
            "text/plain": [
              "<IPython.core.display.HTML object>"
            ],
            "text/html": [
              "\n",
              "     <input type=\"file\" id=\"files-63fe60cd-f6b8-47c1-b36d-d3b1d330ed0a\" name=\"files[]\" multiple disabled\n",
              "        style=\"border:none\" />\n",
              "     <output id=\"result-63fe60cd-f6b8-47c1-b36d-d3b1d330ed0a\">\n",
              "      Upload widget is only available when the cell has been executed in the\n",
              "      current browser session. Please rerun this cell to enable.\n",
              "      </output>\n",
              "      <script>// Copyright 2017 Google LLC\n",
              "//\n",
              "// Licensed under the Apache License, Version 2.0 (the \"License\");\n",
              "// you may not use this file except in compliance with the License.\n",
              "// You may obtain a copy of the License at\n",
              "//\n",
              "//      http://www.apache.org/licenses/LICENSE-2.0\n",
              "//\n",
              "// Unless required by applicable law or agreed to in writing, software\n",
              "// distributed under the License is distributed on an \"AS IS\" BASIS,\n",
              "// WITHOUT WARRANTIES OR CONDITIONS OF ANY KIND, either express or implied.\n",
              "// See the License for the specific language governing permissions and\n",
              "// limitations under the License.\n",
              "\n",
              "/**\n",
              " * @fileoverview Helpers for google.colab Python module.\n",
              " */\n",
              "(function(scope) {\n",
              "function span(text, styleAttributes = {}) {\n",
              "  const element = document.createElement('span');\n",
              "  element.textContent = text;\n",
              "  for (const key of Object.keys(styleAttributes)) {\n",
              "    element.style[key] = styleAttributes[key];\n",
              "  }\n",
              "  return element;\n",
              "}\n",
              "\n",
              "// Max number of bytes which will be uploaded at a time.\n",
              "const MAX_PAYLOAD_SIZE = 100 * 1024;\n",
              "\n",
              "function _uploadFiles(inputId, outputId) {\n",
              "  const steps = uploadFilesStep(inputId, outputId);\n",
              "  const outputElement = document.getElementById(outputId);\n",
              "  // Cache steps on the outputElement to make it available for the next call\n",
              "  // to uploadFilesContinue from Python.\n",
              "  outputElement.steps = steps;\n",
              "\n",
              "  return _uploadFilesContinue(outputId);\n",
              "}\n",
              "\n",
              "// This is roughly an async generator (not supported in the browser yet),\n",
              "// where there are multiple asynchronous steps and the Python side is going\n",
              "// to poll for completion of each step.\n",
              "// This uses a Promise to block the python side on completion of each step,\n",
              "// then passes the result of the previous step as the input to the next step.\n",
              "function _uploadFilesContinue(outputId) {\n",
              "  const outputElement = document.getElementById(outputId);\n",
              "  const steps = outputElement.steps;\n",
              "\n",
              "  const next = steps.next(outputElement.lastPromiseValue);\n",
              "  return Promise.resolve(next.value.promise).then((value) => {\n",
              "    // Cache the last promise value to make it available to the next\n",
              "    // step of the generator.\n",
              "    outputElement.lastPromiseValue = value;\n",
              "    return next.value.response;\n",
              "  });\n",
              "}\n",
              "\n",
              "/**\n",
              " * Generator function which is called between each async step of the upload\n",
              " * process.\n",
              " * @param {string} inputId Element ID of the input file picker element.\n",
              " * @param {string} outputId Element ID of the output display.\n",
              " * @return {!Iterable<!Object>} Iterable of next steps.\n",
              " */\n",
              "function* uploadFilesStep(inputId, outputId) {\n",
              "  const inputElement = document.getElementById(inputId);\n",
              "  inputElement.disabled = false;\n",
              "\n",
              "  const outputElement = document.getElementById(outputId);\n",
              "  outputElement.innerHTML = '';\n",
              "\n",
              "  const pickedPromise = new Promise((resolve) => {\n",
              "    inputElement.addEventListener('change', (e) => {\n",
              "      resolve(e.target.files);\n",
              "    });\n",
              "  });\n",
              "\n",
              "  const cancel = document.createElement('button');\n",
              "  inputElement.parentElement.appendChild(cancel);\n",
              "  cancel.textContent = 'Cancel upload';\n",
              "  const cancelPromise = new Promise((resolve) => {\n",
              "    cancel.onclick = () => {\n",
              "      resolve(null);\n",
              "    };\n",
              "  });\n",
              "\n",
              "  // Wait for the user to pick the files.\n",
              "  const files = yield {\n",
              "    promise: Promise.race([pickedPromise, cancelPromise]),\n",
              "    response: {\n",
              "      action: 'starting',\n",
              "    }\n",
              "  };\n",
              "\n",
              "  cancel.remove();\n",
              "\n",
              "  // Disable the input element since further picks are not allowed.\n",
              "  inputElement.disabled = true;\n",
              "\n",
              "  if (!files) {\n",
              "    return {\n",
              "      response: {\n",
              "        action: 'complete',\n",
              "      }\n",
              "    };\n",
              "  }\n",
              "\n",
              "  for (const file of files) {\n",
              "    const li = document.createElement('li');\n",
              "    li.append(span(file.name, {fontWeight: 'bold'}));\n",
              "    li.append(span(\n",
              "        `(${file.type || 'n/a'}) - ${file.size} bytes, ` +\n",
              "        `last modified: ${\n",
              "            file.lastModifiedDate ? file.lastModifiedDate.toLocaleDateString() :\n",
              "                                    'n/a'} - `));\n",
              "    const percent = span('0% done');\n",
              "    li.appendChild(percent);\n",
              "\n",
              "    outputElement.appendChild(li);\n",
              "\n",
              "    const fileDataPromise = new Promise((resolve) => {\n",
              "      const reader = new FileReader();\n",
              "      reader.onload = (e) => {\n",
              "        resolve(e.target.result);\n",
              "      };\n",
              "      reader.readAsArrayBuffer(file);\n",
              "    });\n",
              "    // Wait for the data to be ready.\n",
              "    let fileData = yield {\n",
              "      promise: fileDataPromise,\n",
              "      response: {\n",
              "        action: 'continue',\n",
              "      }\n",
              "    };\n",
              "\n",
              "    // Use a chunked sending to avoid message size limits. See b/62115660.\n",
              "    let position = 0;\n",
              "    do {\n",
              "      const length = Math.min(fileData.byteLength - position, MAX_PAYLOAD_SIZE);\n",
              "      const chunk = new Uint8Array(fileData, position, length);\n",
              "      position += length;\n",
              "\n",
              "      const base64 = btoa(String.fromCharCode.apply(null, chunk));\n",
              "      yield {\n",
              "        response: {\n",
              "          action: 'append',\n",
              "          file: file.name,\n",
              "          data: base64,\n",
              "        },\n",
              "      };\n",
              "\n",
              "      let percentDone = fileData.byteLength === 0 ?\n",
              "          100 :\n",
              "          Math.round((position / fileData.byteLength) * 100);\n",
              "      percent.textContent = `${percentDone}% done`;\n",
              "\n",
              "    } while (position < fileData.byteLength);\n",
              "  }\n",
              "\n",
              "  // All done.\n",
              "  yield {\n",
              "    response: {\n",
              "      action: 'complete',\n",
              "    }\n",
              "  };\n",
              "}\n",
              "\n",
              "scope.google = scope.google || {};\n",
              "scope.google.colab = scope.google.colab || {};\n",
              "scope.google.colab._files = {\n",
              "  _uploadFiles,\n",
              "  _uploadFilesContinue,\n",
              "};\n",
              "})(self);\n",
              "</script> "
            ]
          },
          "metadata": {}
        },
        {
          "output_type": "stream",
          "name": "stdout",
          "text": [
            "Saving Monkey Pod Tree Dataset.xlsx to Monkey Pod Tree Dataset (1).xlsx\n"
          ]
        }
      ]
    },
    {
      "cell_type": "code",
      "source": [
        "# In this block of code, the dataset on CSV will be loaded to a Pandas DataFrame\n",
        "\n",
        "import pandas as pd\n",
        "df = pd.read_excel('Monkey Pod Tree Dataset.xlsx')\n",
        "\n",
        "column_names = data.columns.tolist()\n",
        "if 'heights' not in column_names or 'circumstances' not in column_names or 'ages' not in column_names:\n",
        "    raise ValueError(\"Column names not found in the dataset.\")\n",
        "\n",
        "\n",
        "X = dataset_array[:, [column_names.index('heights'), column_names.index('circumstances')]]\n",
        "y = dataset_array[:, column_names.index('ages')]"
      ],
      "metadata": {
        "id": "4VPU4hkXqMZr",
        "colab": {
          "base_uri": "https://localhost:8080/",
          "height": 380
        },
        "outputId": "9cf2c61f-0243-4a8f-8aa7-f4be71b566e7"
      },
      "execution_count": null,
      "outputs": [
        {
          "output_type": "error",
          "ename": "FileNotFoundError",
          "evalue": "ignored",
          "traceback": [
            "\u001b[0;31m---------------------------------------------------------------------------\u001b[0m",
            "\u001b[0;31mFileNotFoundError\u001b[0m                         Traceback (most recent call last)",
            "\u001b[0;32m<ipython-input-1-562f96417d93>\u001b[0m in \u001b[0;36m<cell line: 4>\u001b[0;34m()\u001b[0m\n\u001b[1;32m      2\u001b[0m \u001b[0;34m\u001b[0m\u001b[0m\n\u001b[1;32m      3\u001b[0m \u001b[0;32mimport\u001b[0m \u001b[0mpandas\u001b[0m \u001b[0;32mas\u001b[0m \u001b[0mpd\u001b[0m\u001b[0;34m\u001b[0m\u001b[0;34m\u001b[0m\u001b[0m\n\u001b[0;32m----> 4\u001b[0;31m \u001b[0mdf\u001b[0m \u001b[0;34m=\u001b[0m \u001b[0mpd\u001b[0m\u001b[0;34m.\u001b[0m\u001b[0mread_excel\u001b[0m\u001b[0;34m(\u001b[0m\u001b[0;34m'Monkey Pod Tree Dataset.xlsx'\u001b[0m\u001b[0;34m)\u001b[0m\u001b[0;34m\u001b[0m\u001b[0;34m\u001b[0m\u001b[0m\n\u001b[0m\u001b[1;32m      5\u001b[0m \u001b[0;34m\u001b[0m\u001b[0m\n\u001b[1;32m      6\u001b[0m \u001b[0mcolumn_names\u001b[0m \u001b[0;34m=\u001b[0m \u001b[0mdata\u001b[0m\u001b[0;34m.\u001b[0m\u001b[0mcolumns\u001b[0m\u001b[0;34m.\u001b[0m\u001b[0mtolist\u001b[0m\u001b[0;34m(\u001b[0m\u001b[0;34m)\u001b[0m\u001b[0;34m\u001b[0m\u001b[0;34m\u001b[0m\u001b[0m\n",
            "\u001b[0;32m/usr/local/lib/python3.10/dist-packages/pandas/util/_decorators.py\u001b[0m in \u001b[0;36mwrapper\u001b[0;34m(*args, **kwargs)\u001b[0m\n\u001b[1;32m    209\u001b[0m                 \u001b[0;32melse\u001b[0m\u001b[0;34m:\u001b[0m\u001b[0;34m\u001b[0m\u001b[0;34m\u001b[0m\u001b[0m\n\u001b[1;32m    210\u001b[0m                     \u001b[0mkwargs\u001b[0m\u001b[0;34m[\u001b[0m\u001b[0mnew_arg_name\u001b[0m\u001b[0;34m]\u001b[0m \u001b[0;34m=\u001b[0m \u001b[0mnew_arg_value\u001b[0m\u001b[0;34m\u001b[0m\u001b[0;34m\u001b[0m\u001b[0m\n\u001b[0;32m--> 211\u001b[0;31m             \u001b[0;32mreturn\u001b[0m \u001b[0mfunc\u001b[0m\u001b[0;34m(\u001b[0m\u001b[0;34m*\u001b[0m\u001b[0margs\u001b[0m\u001b[0;34m,\u001b[0m \u001b[0;34m**\u001b[0m\u001b[0mkwargs\u001b[0m\u001b[0;34m)\u001b[0m\u001b[0;34m\u001b[0m\u001b[0;34m\u001b[0m\u001b[0m\n\u001b[0m\u001b[1;32m    212\u001b[0m \u001b[0;34m\u001b[0m\u001b[0m\n\u001b[1;32m    213\u001b[0m         \u001b[0;32mreturn\u001b[0m \u001b[0mcast\u001b[0m\u001b[0;34m(\u001b[0m\u001b[0mF\u001b[0m\u001b[0;34m,\u001b[0m \u001b[0mwrapper\u001b[0m\u001b[0;34m)\u001b[0m\u001b[0;34m\u001b[0m\u001b[0;34m\u001b[0m\u001b[0m\n",
            "\u001b[0;32m/usr/local/lib/python3.10/dist-packages/pandas/util/_decorators.py\u001b[0m in \u001b[0;36mwrapper\u001b[0;34m(*args, **kwargs)\u001b[0m\n\u001b[1;32m    329\u001b[0m                     \u001b[0mstacklevel\u001b[0m\u001b[0;34m=\u001b[0m\u001b[0mfind_stack_level\u001b[0m\u001b[0;34m(\u001b[0m\u001b[0;34m)\u001b[0m\u001b[0;34m,\u001b[0m\u001b[0;34m\u001b[0m\u001b[0;34m\u001b[0m\u001b[0m\n\u001b[1;32m    330\u001b[0m                 )\n\u001b[0;32m--> 331\u001b[0;31m             \u001b[0;32mreturn\u001b[0m \u001b[0mfunc\u001b[0m\u001b[0;34m(\u001b[0m\u001b[0;34m*\u001b[0m\u001b[0margs\u001b[0m\u001b[0;34m,\u001b[0m \u001b[0;34m**\u001b[0m\u001b[0mkwargs\u001b[0m\u001b[0;34m)\u001b[0m\u001b[0;34m\u001b[0m\u001b[0;34m\u001b[0m\u001b[0m\n\u001b[0m\u001b[1;32m    332\u001b[0m \u001b[0;34m\u001b[0m\u001b[0m\n\u001b[1;32m    333\u001b[0m         \u001b[0;31m# error: \"Callable[[VarArg(Any), KwArg(Any)], Any]\" has no\u001b[0m\u001b[0;34m\u001b[0m\u001b[0;34m\u001b[0m\u001b[0m\n",
            "\u001b[0;32m/usr/local/lib/python3.10/dist-packages/pandas/io/excel/_base.py\u001b[0m in \u001b[0;36mread_excel\u001b[0;34m(io, sheet_name, header, names, index_col, usecols, squeeze, dtype, engine, converters, true_values, false_values, skiprows, nrows, na_values, keep_default_na, na_filter, verbose, parse_dates, date_parser, thousands, decimal, comment, skipfooter, convert_float, mangle_dupe_cols, storage_options)\u001b[0m\n\u001b[1;32m    480\u001b[0m     \u001b[0;32mif\u001b[0m \u001b[0;32mnot\u001b[0m \u001b[0misinstance\u001b[0m\u001b[0;34m(\u001b[0m\u001b[0mio\u001b[0m\u001b[0;34m,\u001b[0m \u001b[0mExcelFile\u001b[0m\u001b[0;34m)\u001b[0m\u001b[0;34m:\u001b[0m\u001b[0;34m\u001b[0m\u001b[0;34m\u001b[0m\u001b[0m\n\u001b[1;32m    481\u001b[0m         \u001b[0mshould_close\u001b[0m \u001b[0;34m=\u001b[0m \u001b[0;32mTrue\u001b[0m\u001b[0;34m\u001b[0m\u001b[0;34m\u001b[0m\u001b[0m\n\u001b[0;32m--> 482\u001b[0;31m         \u001b[0mio\u001b[0m \u001b[0;34m=\u001b[0m \u001b[0mExcelFile\u001b[0m\u001b[0;34m(\u001b[0m\u001b[0mio\u001b[0m\u001b[0;34m,\u001b[0m \u001b[0mstorage_options\u001b[0m\u001b[0;34m=\u001b[0m\u001b[0mstorage_options\u001b[0m\u001b[0;34m,\u001b[0m \u001b[0mengine\u001b[0m\u001b[0;34m=\u001b[0m\u001b[0mengine\u001b[0m\u001b[0;34m)\u001b[0m\u001b[0;34m\u001b[0m\u001b[0;34m\u001b[0m\u001b[0m\n\u001b[0m\u001b[1;32m    483\u001b[0m     \u001b[0;32melif\u001b[0m \u001b[0mengine\u001b[0m \u001b[0;32mand\u001b[0m \u001b[0mengine\u001b[0m \u001b[0;34m!=\u001b[0m \u001b[0mio\u001b[0m\u001b[0;34m.\u001b[0m\u001b[0mengine\u001b[0m\u001b[0;34m:\u001b[0m\u001b[0;34m\u001b[0m\u001b[0;34m\u001b[0m\u001b[0m\n\u001b[1;32m    484\u001b[0m         raise ValueError(\n",
            "\u001b[0;32m/usr/local/lib/python3.10/dist-packages/pandas/io/excel/_base.py\u001b[0m in \u001b[0;36m__init__\u001b[0;34m(self, path_or_buffer, engine, storage_options)\u001b[0m\n\u001b[1;32m   1650\u001b[0m                 \u001b[0mext\u001b[0m \u001b[0;34m=\u001b[0m \u001b[0;34m\"xls\"\u001b[0m\u001b[0;34m\u001b[0m\u001b[0;34m\u001b[0m\u001b[0m\n\u001b[1;32m   1651\u001b[0m             \u001b[0;32melse\u001b[0m\u001b[0;34m:\u001b[0m\u001b[0;34m\u001b[0m\u001b[0;34m\u001b[0m\u001b[0m\n\u001b[0;32m-> 1652\u001b[0;31m                 ext = inspect_excel_format(\n\u001b[0m\u001b[1;32m   1653\u001b[0m                     \u001b[0mcontent_or_path\u001b[0m\u001b[0;34m=\u001b[0m\u001b[0mpath_or_buffer\u001b[0m\u001b[0;34m,\u001b[0m \u001b[0mstorage_options\u001b[0m\u001b[0;34m=\u001b[0m\u001b[0mstorage_options\u001b[0m\u001b[0;34m\u001b[0m\u001b[0;34m\u001b[0m\u001b[0m\n\u001b[1;32m   1654\u001b[0m                 )\n",
            "\u001b[0;32m/usr/local/lib/python3.10/dist-packages/pandas/io/excel/_base.py\u001b[0m in \u001b[0;36minspect_excel_format\u001b[0;34m(content_or_path, storage_options)\u001b[0m\n\u001b[1;32m   1523\u001b[0m         \u001b[0mcontent_or_path\u001b[0m \u001b[0;34m=\u001b[0m \u001b[0mBytesIO\u001b[0m\u001b[0;34m(\u001b[0m\u001b[0mcontent_or_path\u001b[0m\u001b[0;34m)\u001b[0m\u001b[0;34m\u001b[0m\u001b[0;34m\u001b[0m\u001b[0m\n\u001b[1;32m   1524\u001b[0m \u001b[0;34m\u001b[0m\u001b[0m\n\u001b[0;32m-> 1525\u001b[0;31m     with get_handle(\n\u001b[0m\u001b[1;32m   1526\u001b[0m         \u001b[0mcontent_or_path\u001b[0m\u001b[0;34m,\u001b[0m \u001b[0;34m\"rb\"\u001b[0m\u001b[0;34m,\u001b[0m \u001b[0mstorage_options\u001b[0m\u001b[0;34m=\u001b[0m\u001b[0mstorage_options\u001b[0m\u001b[0;34m,\u001b[0m \u001b[0mis_text\u001b[0m\u001b[0;34m=\u001b[0m\u001b[0;32mFalse\u001b[0m\u001b[0;34m\u001b[0m\u001b[0;34m\u001b[0m\u001b[0m\n\u001b[1;32m   1527\u001b[0m     ) as handle:\n",
            "\u001b[0;32m/usr/local/lib/python3.10/dist-packages/pandas/io/common.py\u001b[0m in \u001b[0;36mget_handle\u001b[0;34m(path_or_buf, mode, encoding, compression, memory_map, is_text, errors, storage_options)\u001b[0m\n\u001b[1;32m    863\u001b[0m         \u001b[0;32melse\u001b[0m\u001b[0;34m:\u001b[0m\u001b[0;34m\u001b[0m\u001b[0;34m\u001b[0m\u001b[0m\n\u001b[1;32m    864\u001b[0m             \u001b[0;31m# Binary mode\u001b[0m\u001b[0;34m\u001b[0m\u001b[0;34m\u001b[0m\u001b[0m\n\u001b[0;32m--> 865\u001b[0;31m             \u001b[0mhandle\u001b[0m \u001b[0;34m=\u001b[0m \u001b[0mopen\u001b[0m\u001b[0;34m(\u001b[0m\u001b[0mhandle\u001b[0m\u001b[0;34m,\u001b[0m \u001b[0mioargs\u001b[0m\u001b[0;34m.\u001b[0m\u001b[0mmode\u001b[0m\u001b[0;34m)\u001b[0m\u001b[0;34m\u001b[0m\u001b[0;34m\u001b[0m\u001b[0m\n\u001b[0m\u001b[1;32m    866\u001b[0m         \u001b[0mhandles\u001b[0m\u001b[0;34m.\u001b[0m\u001b[0mappend\u001b[0m\u001b[0;34m(\u001b[0m\u001b[0mhandle\u001b[0m\u001b[0;34m)\u001b[0m\u001b[0;34m\u001b[0m\u001b[0;34m\u001b[0m\u001b[0m\n\u001b[1;32m    867\u001b[0m \u001b[0;34m\u001b[0m\u001b[0m\n",
            "\u001b[0;31mFileNotFoundError\u001b[0m: [Errno 2] No such file or directory: 'Monkey Pod Tree Dataset.xlsx'"
          ]
        }
      ]
    },
    {
      "cell_type": "code",
      "source": [
        "# In this block of code, the dataset will be converted to a numpy array\n",
        "\n",
        "data = df.to_numpy()\n",
        "print(\"Shape of the data array:\", data.shape)"
      ],
      "metadata": {
        "colab": {
          "base_uri": "https://localhost:8080/"
        },
        "id": "EZ8aC9D1rypT",
        "outputId": "495f90b0-d772-42be-f476-05c822e57f35"
      },
      "execution_count": null,
      "outputs": [
        {
          "output_type": "stream",
          "name": "stdout",
          "text": [
            "Shape of the data array: (179, 3)\n"
          ]
        }
      ]
    },
    {
      "cell_type": "code",
      "source": [
        "# In this block of code, the shape will be defined\n",
        "\n",
        "heights = data[:, 0]\n",
        "circumstances = data[:, 1]\n",
        "ages = data[:, 2]"
      ],
      "metadata": {
        "id": "i2FKCrDmsMMA"
      },
      "execution_count": null,
      "outputs": []
    },
    {
      "cell_type": "code",
      "source": [
        "# In this block of code, the ratio will be categorized \n",
        "\n",
        "def categorize_ratio(heights, circumstances):\n",
        "  ratio_height_circumstance = heights / circumstances\n",
        "  if ratio < 10:\n",
        "    categories.append(\"This tree has an EXCELLENT ratio\")\n",
        "  elif 10<= ratio <= 20:\n",
        "    categories.append(\"This tree has an IDEAL ratio\")\n",
        "  else:\n",
        "    categories.append(\"This tree has BAD ratio\")"
      ],
      "metadata": {
        "id": "U6AO45Fbst80"
      },
      "execution_count": null,
      "outputs": []
    },
    {
      "cell_type": "code",
      "source": [
        "# In this block of code, the normalization of the data will be performed using numpy\n",
        "\n",
        "mean_heights = np.mean(heights)\n",
        "std_heights = np.std(heights)\n",
        "normalized_heights = (heights - mean_heights) / std_heights\n",
        "\n",
        "mean_circumstances = np.mean(circumstances)\n",
        "std_circumstances = np.std(circumstances)\n",
        "normalized_circumstances = (circumstances - mean_circumstances) / std_circumstances\n",
        "\n",
        "scaler = MinMaxScaler()\n",
        "X_normalized = scaler.fit_transform(X)"
      ],
      "metadata": {
        "id": "krsvp-SHt7aK",
        "colab": {
          "base_uri": "https://localhost:8080/",
          "height": 200
        },
        "outputId": "0881549c-dc05-439d-edf6-d6a0fc1c63c1"
      },
      "execution_count": null,
      "outputs": [
        {
          "output_type": "error",
          "ename": "NameError",
          "evalue": "ignored",
          "traceback": [
            "\u001b[0;31m---------------------------------------------------------------------------\u001b[0m",
            "\u001b[0;31mNameError\u001b[0m                                 Traceback (most recent call last)",
            "\u001b[0;32m<ipython-input-17-993799821f8a>\u001b[0m in \u001b[0;36m<cell line: 12>\u001b[0;34m()\u001b[0m\n\u001b[1;32m     10\u001b[0m \u001b[0;34m\u001b[0m\u001b[0m\n\u001b[1;32m     11\u001b[0m \u001b[0mscaler\u001b[0m \u001b[0;34m=\u001b[0m \u001b[0mMinMaxScaler\u001b[0m\u001b[0;34m(\u001b[0m\u001b[0;34m)\u001b[0m\u001b[0;34m\u001b[0m\u001b[0;34m\u001b[0m\u001b[0m\n\u001b[0;32m---> 12\u001b[0;31m \u001b[0mX_normalized\u001b[0m \u001b[0;34m=\u001b[0m \u001b[0mscaler\u001b[0m\u001b[0;34m.\u001b[0m\u001b[0mfit_transform\u001b[0m\u001b[0;34m(\u001b[0m\u001b[0mX\u001b[0m\u001b[0;34m)\u001b[0m\u001b[0;34m\u001b[0m\u001b[0;34m\u001b[0m\u001b[0m\n\u001b[0m",
            "\u001b[0;31mNameError\u001b[0m: name 'X' is not defined"
          ]
        }
      ]
    },
    {
      "cell_type": "code",
      "source": [
        "# In this block of code, I will split the data into train,, dev, and test\n",
        "\n",
        "X_train, X_test, y_train, y_test, cat_train, cat_test = train_test_split(\n",
        "    X_normalized, y, categories_encoded, test_size=0.2, random_state=42)\n",
        "X_dev, X_test, y_dev, y_test, cat_dev, cat_test = train_test_split(\n",
        "    X_test, y_test, cat_test, test_size=0.5, random_state=42)"
      ],
      "metadata": {
        "colab": {
          "base_uri": "https://localhost:8080/",
          "height": 235
        },
        "id": "0p0ucNyLLuhO",
        "outputId": "da4b5fb9-3624-4b93-d80b-61d9b51e18c8"
      },
      "execution_count": null,
      "outputs": [
        {
          "output_type": "error",
          "ename": "NameError",
          "evalue": "ignored",
          "traceback": [
            "\u001b[0;31m---------------------------------------------------------------------------\u001b[0m",
            "\u001b[0;31mNameError\u001b[0m                                 Traceback (most recent call last)",
            "\u001b[0;32m<ipython-input-14-1faabd1d4747>\u001b[0m in \u001b[0;36m<cell line: 3>\u001b[0;34m()\u001b[0m\n\u001b[1;32m      2\u001b[0m \u001b[0;34m\u001b[0m\u001b[0m\n\u001b[1;32m      3\u001b[0m X_train, X_test, y_train, y_test, cat_train, cat_test = train_test_split(\n\u001b[0;32m----> 4\u001b[0;31m     X_normalized, y, categories_encoded, test_size=0.2, random_state=42)\n\u001b[0m\u001b[1;32m      5\u001b[0m X_dev, X_test, y_dev, y_test, cat_dev, cat_test = train_test_split(\n\u001b[1;32m      6\u001b[0m     X_test, y_test, cat_test, test_size=0.5, random_state=42)\n",
            "\u001b[0;31mNameError\u001b[0m: name 'X_normalized' is not defined"
          ]
        }
      ]
    },
    {
      "cell_type": "code",
      "source": [
        "# In this block of code, the neural network model architecture will be defined\n",
        "model = tf.keras.Sequential([\n",
        "    tf.keras.layers.Dense(64, activation='relu', input_shape=(2,)),\n",
        "    tf.keras.layers.Dense(64, activation='relu'),\n",
        "    tf.keras.layers.Dense(32, activation='relu'),    \n",
        "    tf.keras.layers.Dense(1)\n",
        "])\n"
      ],
      "metadata": {
        "id": "BYSuEE_lujiA"
      },
      "execution_count": null,
      "outputs": []
    },
    {
      "cell_type": "code",
      "source": [
        "# In this block of code, the model will be compiled and trained\n",
        "\n",
        "model.compile(optimizer='adam', loss='mean_squared_error')\n",
        "\n",
        "\n",
        "inputs = np.column_stack((normalized_heights, normalized_circumstances))\n",
        "model.fit(x=inputs, y=ages, epochs=100, batch_size=32)"
      ],
      "metadata": {
        "colab": {
          "base_uri": "https://localhost:8080/"
        },
        "id": "-E0IMHEJvQ-c",
        "outputId": "bb74b2ea-b1b5-49a4-de85-387ea2af8e9b"
      },
      "execution_count": null,
      "outputs": [
        {
          "output_type": "stream",
          "name": "stdout",
          "text": [
            "Epoch 1/100\n",
            "6/6 [==============================] - 1s 3ms/step - loss: 4.6460\n",
            "Epoch 2/100\n",
            "6/6 [==============================] - 0s 2ms/step - loss: 4.3165\n",
            "Epoch 3/100\n",
            "6/6 [==============================] - 0s 3ms/step - loss: 4.4809\n",
            "Epoch 4/100\n",
            "6/6 [==============================] - 0s 3ms/step - loss: 4.2579\n",
            "Epoch 5/100\n",
            "6/6 [==============================] - 0s 2ms/step - loss: 4.1335\n",
            "Epoch 6/100\n",
            "6/6 [==============================] - 0s 4ms/step - loss: 4.1473\n",
            "Epoch 7/100\n",
            "6/6 [==============================] - 0s 3ms/step - loss: 4.2738\n",
            "Epoch 8/100\n",
            "6/6 [==============================] - 0s 3ms/step - loss: 4.5313\n",
            "Epoch 9/100\n",
            "6/6 [==============================] - 0s 3ms/step - loss: 4.1952\n",
            "Epoch 10/100\n",
            "6/6 [==============================] - 0s 3ms/step - loss: 4.4132\n",
            "Epoch 11/100\n",
            "6/6 [==============================] - 0s 4ms/step - loss: 4.2650\n",
            "Epoch 12/100\n",
            "6/6 [==============================] - 0s 4ms/step - loss: 4.1559\n",
            "Epoch 13/100\n",
            "6/6 [==============================] - 0s 3ms/step - loss: 4.1341\n",
            "Epoch 14/100\n",
            "6/6 [==============================] - 0s 2ms/step - loss: 4.1988\n",
            "Epoch 15/100\n",
            "6/6 [==============================] - 0s 3ms/step - loss: 4.1632\n",
            "Epoch 16/100\n",
            "6/6 [==============================] - 0s 3ms/step - loss: 4.2105\n",
            "Epoch 17/100\n",
            "6/6 [==============================] - 0s 2ms/step - loss: 4.1750\n",
            "Epoch 18/100\n",
            "6/6 [==============================] - 0s 2ms/step - loss: 4.2244\n",
            "Epoch 19/100\n",
            "6/6 [==============================] - 0s 3ms/step - loss: 4.1235\n",
            "Epoch 20/100\n",
            "6/6 [==============================] - 0s 3ms/step - loss: 4.2765\n",
            "Epoch 21/100\n",
            "6/6 [==============================] - 0s 3ms/step - loss: 4.2400\n",
            "Epoch 22/100\n",
            "6/6 [==============================] - 0s 2ms/step - loss: 4.4604\n",
            "Epoch 23/100\n",
            "6/6 [==============================] - 0s 2ms/step - loss: 4.6867\n",
            "Epoch 24/100\n",
            "6/6 [==============================] - 0s 2ms/step - loss: 4.4497\n",
            "Epoch 25/100\n",
            "6/6 [==============================] - 0s 2ms/step - loss: 4.3275\n",
            "Epoch 26/100\n",
            "6/6 [==============================] - 0s 3ms/step - loss: 4.5598\n",
            "Epoch 27/100\n",
            "6/6 [==============================] - 0s 2ms/step - loss: 4.5058\n",
            "Epoch 28/100\n",
            "6/6 [==============================] - 0s 3ms/step - loss: 4.2149\n",
            "Epoch 29/100\n",
            "6/6 [==============================] - 0s 2ms/step - loss: 4.2629\n",
            "Epoch 30/100\n",
            "6/6 [==============================] - 0s 3ms/step - loss: 4.0765\n",
            "Epoch 31/100\n",
            "6/6 [==============================] - 0s 3ms/step - loss: 4.1986\n",
            "Epoch 32/100\n",
            "6/6 [==============================] - 0s 3ms/step - loss: 4.1514\n",
            "Epoch 33/100\n",
            "6/6 [==============================] - 0s 3ms/step - loss: 4.2624\n",
            "Epoch 34/100\n",
            "6/6 [==============================] - 0s 3ms/step - loss: 4.1646\n",
            "Epoch 35/100\n",
            "6/6 [==============================] - 0s 3ms/step - loss: 4.1478\n",
            "Epoch 36/100\n",
            "6/6 [==============================] - 0s 4ms/step - loss: 4.2025\n",
            "Epoch 37/100\n",
            "6/6 [==============================] - 0s 3ms/step - loss: 4.1481\n",
            "Epoch 38/100\n",
            "6/6 [==============================] - 0s 3ms/step - loss: 4.1892\n",
            "Epoch 39/100\n",
            "6/6 [==============================] - 0s 3ms/step - loss: 4.2382\n",
            "Epoch 40/100\n",
            "6/6 [==============================] - 0s 3ms/step - loss: 4.1951\n",
            "Epoch 41/100\n",
            "6/6 [==============================] - 0s 4ms/step - loss: 4.1722\n",
            "Epoch 42/100\n",
            "6/6 [==============================] - 0s 3ms/step - loss: 4.1197\n",
            "Epoch 43/100\n",
            "6/6 [==============================] - 0s 3ms/step - loss: 4.1185\n",
            "Epoch 44/100\n",
            "6/6 [==============================] - 0s 3ms/step - loss: 4.1659\n",
            "Epoch 45/100\n",
            "6/6 [==============================] - 0s 3ms/step - loss: 4.1617\n",
            "Epoch 46/100\n",
            "6/6 [==============================] - 0s 3ms/step - loss: 4.4307\n",
            "Epoch 47/100\n",
            "6/6 [==============================] - 0s 3ms/step - loss: 4.2290\n",
            "Epoch 48/100\n",
            "6/6 [==============================] - 0s 3ms/step - loss: 4.1299\n",
            "Epoch 49/100\n",
            "6/6 [==============================] - 0s 3ms/step - loss: 4.0980\n",
            "Epoch 50/100\n",
            "6/6 [==============================] - 0s 3ms/step - loss: 4.1933\n",
            "Epoch 51/100\n",
            "6/6 [==============================] - 0s 2ms/step - loss: 4.2795\n",
            "Epoch 52/100\n",
            "6/6 [==============================] - 0s 3ms/step - loss: 4.1657\n",
            "Epoch 53/100\n",
            "6/6 [==============================] - 0s 4ms/step - loss: 4.2165\n",
            "Epoch 54/100\n",
            "6/6 [==============================] - 0s 2ms/step - loss: 4.2066\n",
            "Epoch 55/100\n",
            "6/6 [==============================] - 0s 3ms/step - loss: 4.3781\n",
            "Epoch 56/100\n",
            "6/6 [==============================] - 0s 2ms/step - loss: 4.2126\n",
            "Epoch 57/100\n",
            "6/6 [==============================] - 0s 3ms/step - loss: 4.1338\n",
            "Epoch 58/100\n",
            "6/6 [==============================] - 0s 3ms/step - loss: 4.1290\n",
            "Epoch 59/100\n",
            "6/6 [==============================] - 0s 3ms/step - loss: 4.2095\n",
            "Epoch 60/100\n",
            "6/6 [==============================] - 0s 3ms/step - loss: 4.2948\n",
            "Epoch 61/100\n",
            "6/6 [==============================] - 0s 3ms/step - loss: 4.2822\n",
            "Epoch 62/100\n",
            "6/6 [==============================] - 0s 3ms/step - loss: 4.3733\n",
            "Epoch 63/100\n",
            "6/6 [==============================] - 0s 2ms/step - loss: 4.3808\n",
            "Epoch 64/100\n",
            "6/6 [==============================] - 0s 2ms/step - loss: 4.3735\n",
            "Epoch 65/100\n",
            "6/6 [==============================] - 0s 2ms/step - loss: 4.2722\n",
            "Epoch 66/100\n",
            "6/6 [==============================] - 0s 2ms/step - loss: 4.0848\n",
            "Epoch 67/100\n",
            "6/6 [==============================] - 0s 3ms/step - loss: 4.1334\n",
            "Epoch 68/100\n",
            "6/6 [==============================] - 0s 2ms/step - loss: 4.1279\n",
            "Epoch 69/100\n",
            "6/6 [==============================] - 0s 2ms/step - loss: 4.2147\n",
            "Epoch 70/100\n",
            "6/6 [==============================] - 0s 3ms/step - loss: 4.2932\n",
            "Epoch 71/100\n",
            "6/6 [==============================] - 0s 3ms/step - loss: 4.3805\n",
            "Epoch 72/100\n",
            "6/6 [==============================] - 0s 3ms/step - loss: 4.1352\n",
            "Epoch 73/100\n",
            "6/6 [==============================] - 0s 3ms/step - loss: 4.0869\n",
            "Epoch 74/100\n",
            "6/6 [==============================] - 0s 2ms/step - loss: 4.2192\n",
            "Epoch 75/100\n",
            "6/6 [==============================] - 0s 2ms/step - loss: 4.1221\n",
            "Epoch 76/100\n",
            "6/6 [==============================] - 0s 2ms/step - loss: 4.1415\n",
            "Epoch 77/100\n",
            "6/6 [==============================] - 0s 2ms/step - loss: 4.0983\n",
            "Epoch 78/100\n",
            "6/6 [==============================] - 0s 2ms/step - loss: 4.1147\n",
            "Epoch 79/100\n",
            "6/6 [==============================] - 0s 2ms/step - loss: 4.1531\n",
            "Epoch 80/100\n",
            "6/6 [==============================] - 0s 2ms/step - loss: 4.1140\n",
            "Epoch 81/100\n",
            "6/6 [==============================] - 0s 3ms/step - loss: 4.3002\n",
            "Epoch 82/100\n",
            "6/6 [==============================] - 0s 2ms/step - loss: 4.3112\n",
            "Epoch 83/100\n",
            "6/6 [==============================] - 0s 2ms/step - loss: 4.4551\n",
            "Epoch 84/100\n",
            "6/6 [==============================] - 0s 3ms/step - loss: 4.0955\n",
            "Epoch 85/100\n",
            "6/6 [==============================] - 0s 2ms/step - loss: 4.1160\n",
            "Epoch 86/100\n",
            "6/6 [==============================] - 0s 3ms/step - loss: 4.1522\n",
            "Epoch 87/100\n",
            "6/6 [==============================] - 0s 3ms/step - loss: 4.0841\n",
            "Epoch 88/100\n",
            "6/6 [==============================] - 0s 3ms/step - loss: 4.1535\n",
            "Epoch 89/100\n",
            "6/6 [==============================] - 0s 3ms/step - loss: 4.1211\n",
            "Epoch 90/100\n",
            "6/6 [==============================] - 0s 3ms/step - loss: 4.1518\n",
            "Epoch 91/100\n",
            "6/6 [==============================] - 0s 3ms/step - loss: 4.1890\n",
            "Epoch 92/100\n",
            "6/6 [==============================] - 0s 3ms/step - loss: 4.2500\n",
            "Epoch 93/100\n",
            "6/6 [==============================] - 0s 2ms/step - loss: 4.3447\n",
            "Epoch 94/100\n",
            "6/6 [==============================] - 0s 2ms/step - loss: 4.1629\n",
            "Epoch 95/100\n",
            "6/6 [==============================] - 0s 2ms/step - loss: 4.4868\n",
            "Epoch 96/100\n",
            "6/6 [==============================] - 0s 3ms/step - loss: 4.1985\n",
            "Epoch 97/100\n",
            "6/6 [==============================] - 0s 2ms/step - loss: 4.4673\n",
            "Epoch 98/100\n",
            "6/6 [==============================] - 0s 3ms/step - loss: 4.4351\n",
            "Epoch 99/100\n",
            "6/6 [==============================] - 0s 3ms/step - loss: 4.5089\n",
            "Epoch 100/100\n",
            "6/6 [==============================] - 0s 2ms/step - loss: 4.3532\n"
          ]
        },
        {
          "output_type": "execute_result",
          "data": {
            "text/plain": [
              "<keras.callbacks.History at 0x7fc656837580>"
            ]
          },
          "metadata": {},
          "execution_count": 92
        }
      ]
    },
    {
      "cell_type": "code",
      "source": [
        "# In this code, the new heights and circumstances will be inputed (option 1 of prediction)\n",
        "\n",
        "new_height = 9.0\n",
        "new_circumstance = 25.0\n",
        "normalized_new_height = (new_height - mean_heights) / std_heights\n",
        "normalized_new_circumstance = (new_circumstance - mean_circumstances) / std_circumstances\n",
        "prediction = model.predict([[normalized_new_height, normalized_new_circumstance]])[0]\n",
        "\n",
        "print(\"Predicted age:\", prediction)"
      ],
      "metadata": {
        "colab": {
          "base_uri": "https://localhost:8080/"
        },
        "id": "vfMzchcZxFL4",
        "outputId": "5112e919-8dc6-4226-aedb-501809eb86c7"
      },
      "execution_count": null,
      "outputs": [
        {
          "output_type": "stream",
          "name": "stdout",
          "text": [
            "1/1 [==============================] - 0s 69ms/step\n",
            "Predicted age: [23.370035]\n"
          ]
        }
      ]
    },
    {
      "cell_type": "code",
      "source": [
        "# In this code, the new heights and circumstances will be inputed (option 2 of prediction)\n",
        "\n",
        "new_data = np.array([[9, 25]])\n",
        "normalized_new_height = (new_data[0, 0] - mean_heights) / std_heights\n",
        "normalized_new_circumstance = (new_data[0, 1] - mean_circumstances) / std_circumstances\n",
        "predicted_age = model.predict([[normalized_new_height, normalized_new_circumstance]])\n",
        "\n",
        "print(\"Predicted age:\", prediction)"
      ],
      "metadata": {
        "colab": {
          "base_uri": "https://localhost:8080/"
        },
        "id": "P7M4bBC3yW4_",
        "outputId": "92a09114-a265-4f68-e8b1-c2a93798ba74"
      },
      "execution_count": null,
      "outputs": [
        {
          "output_type": "stream",
          "name": "stdout",
          "text": [
            "1/1 [==============================] - 0s 37ms/step\n",
            "Predicted age: [23.370035]\n"
          ]
        }
      ]
    },
    {
      "cell_type": "code",
      "source": [
        "# In this block of code, the decision of tree cutting will be made\n",
        "\n",
        "if predicted_age > 50:\n",
        "    if categories[0] == \"This tree has an EXCELLENT ratio\":\n",
        "        decision = \"NO\"\n",
        "    else:\n",
        "        decision = \"YES\"\n",
        "else:\n",
        "    if categories[0] == \"This tree has an EXCELLENT ratio\" or categories[0] == \"This tree has an IDEAL ratio\":\n",
        "        decision = \"NO\"\n",
        "    else:\n",
        "        decision = \"YES\"\n",
        "\n",
        "new_ratio = new_height / new_circumstance\n",
        "if new_ratio < 10:\n",
        "    ratio_category = \"This tree has an EXCELLENT ratio\"\n",
        "elif 10 <= new_ratio <= 20:\n",
        "    ratio_category = \"This tree has an IDEAL ratio\"\n",
        "else:\n",
        "    ratio_category = \"This tree has a BAD ratio\"\n",
        "\n",
        "# Print the predicted age and decision\n",
        "print(\"Predicted age is:\", predicted_age[0, 0])\n",
        "print(\"The ratio is:\", ratio)\n",
        "print(\"Category of the ratio is:\", ratio_category)\n",
        "print(\"Decision is:\", decision)"
      ],
      "metadata": {
        "colab": {
          "base_uri": "https://localhost:8080/"
        },
        "id": "3TkraY-zyv33",
        "outputId": "0c20cd5a-e7af-473e-8590-49cd64a1f97f"
      },
      "execution_count": null,
      "outputs": [
        {
          "output_type": "stream",
          "name": "stdout",
          "text": [
            "Predicted age is: 23.370035\n",
            "The ratio is: 0.32727272727272727\n",
            "Category of the ratio is: This tree has an EXCELLENT ratio\n",
            "Decision is: NO\n"
          ]
        }
      ]
    },
    {
      "cell_type": "code",
      "source": [
        "# In this block of code, the model sumary\n",
        "\n",
        "model.summary()"
      ],
      "metadata": {
        "colab": {
          "base_uri": "https://localhost:8080/"
        },
        "id": "DP6zqJu_1Lpk",
        "outputId": "b388efda-b533-4c98-e3c9-e038b5c7d72d"
      },
      "execution_count": null,
      "outputs": [
        {
          "output_type": "stream",
          "name": "stdout",
          "text": [
            "Model: \"sequential_3\"\n",
            "_________________________________________________________________\n",
            " Layer (type)                Output Shape              Param #   \n",
            "=================================================================\n",
            " dense_16 (Dense)            (None, 64)                192       \n",
            "                                                                 \n",
            " dense_17 (Dense)            (None, 64)                4160      \n",
            "                                                                 \n",
            " dense_18 (Dense)            (None, 32)                2080      \n",
            "                                                                 \n",
            " dense_19 (Dense)            (None, 1)                 33        \n",
            "                                                                 \n",
            "=================================================================\n",
            "Total params: 6,465\n",
            "Trainable params: 6,465\n",
            "Non-trainable params: 0\n",
            "_________________________________________________________________\n"
          ]
        }
      ]
    }
  ]
}